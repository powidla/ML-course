{
  "nbformat": 4,
  "nbformat_minor": 0,
  "metadata": {
    "colab": {
      "provenance": [],
      "authorship_tag": "ABX9TyMS4+XYhm0ET1xPj0dB098g",
      "include_colab_link": true
    },
    "kernelspec": {
      "name": "python3",
      "display_name": "Python 3"
    },
    "language_info": {
      "name": "python"
    }
  },
  "cells": [
    {
      "cell_type": "markdown",
      "metadata": {
        "id": "view-in-github",
        "colab_type": "text"
      },
      "source": [
        "<a href=\"https://colab.research.google.com/github/powidla/ML-course/blob/main/morse.ipynb\" target=\"_parent\"><img src=\"https://colab.research.google.com/assets/colab-badge.svg\" alt=\"Open In Colab\"/></a>"
      ]
    },
    {
      "cell_type": "code",
      "execution_count": 2,
      "metadata": {
        "id": "mlvS3VVYAyrs"
      },
      "outputs": [],
      "source": [
        "class Morse:\n",
        "    def __init__(self):\n",
        "        self.morse = {\n",
        "                          \"0\": \"-----\",\n",
        "                          \"1\": \".----\",\n",
        "                          \"2\": \"..---\",\n",
        "                          \"3\": \"...--\",\n",
        "                          \"4\": \"....-\",\n",
        "                          \"5\": \".....\",\n",
        "                          \"6\": \"-....\",\n",
        "                          \"7\": \"--...\",\n",
        "                          \"8\": \"---..\",\n",
        "                          \"9\": \"----.\",\n",
        "                          \"a\": \".-\",\n",
        "                          \"b\": \"-...\",\n",
        "                          \"c\": \"-.-.\",\n",
        "                          \"d\": \"-..\",\n",
        "                          \"e\": \".\",\n",
        "                          \"f\": \"..-.\",\n",
        "                          \"g\": \"--.\",\n",
        "                          \"h\": \"....\",\n",
        "                          \"i\": \"..\",\n",
        "                          \"j\": \".---\",\n",
        "                          \"k\": \"-.-\",\n",
        "                          \"l\": \".-..\",\n",
        "                          \"m\": \"--\",\n",
        "                          \"n\": \"-.\",\n",
        "                          \"o\": \"---\",\n",
        "                          \"p\": \".--.\",\n",
        "                          \"q\": \"--.-\",\n",
        "                          \"r\": \".-.\",\n",
        "                          \"s\": \"...\",\n",
        "                          \"t\": \"-\",\n",
        "                          \"u\": \"..-\",\n",
        "                          \"v\": \"...-\",\n",
        "                          \"w\": \".--\",\n",
        "                          \"x\": \"-..-\",\n",
        "                          \"y\": \"-.--\",\n",
        "                          \"z\": \"--..\",\n",
        "                          \".\": \".-.-.-\",\n",
        "                          \",\": \"--..--\",\n",
        "                          \"?\": \"..--..\",\n",
        "                          \"!\": \"-.-.--\",\n",
        "                          \"-\": \"-....-\",\n",
        "                          \"/\": \"-..-.\",\n",
        "                          \"@\": \".--.-.\",\n",
        "                          \"(\": \"-.--.\",\n",
        "                          \")\": \"-.--.-\"\n",
        "                        }\n",
        "\n",
        "    def encode(self, string):\n",
        "        encoded_list = []\n",
        "\n",
        "        for char in string:\n",
        "\n",
        "            for key in self.morse:\n",
        "                if key == char.lower():\n",
        "                    encoded_list.append(self.morse[key])\n",
        "\n",
        "        encoded_string = ' '.join(encoded_list)\n",
        "        return encoded_string\n",
        "\n",
        "    def decode(self, string):\n",
        "        decoded_list = []\n",
        "        morse_list = string.split()\n",
        "\n",
        "        for item in morse_list:\n",
        "\n",
        "            for key, value in self.morse.items():\n",
        "                if value == item:\n",
        "                    decoded_list.append(key)\n",
        "\n",
        "        decoded_string = ''.join(decoded_list)\n",
        "        return decoded_string"
      ]
    },
    {
      "cell_type": "code",
      "source": [
        "morse = Morse()\n",
        "\n",
        "should_continue = True\n",
        "\n",
        "while should_continue:\n",
        "    action = input(\"Do you want to encode text or decode Morse Code? Write encode or decode. \\n\")\n",
        "\n",
        "    if action == \"encode\":\n",
        "        user_input = input(\"Enter your text. \\n\")\n",
        "        print(f\"Your encoded Morse Code: \\n{morse.encode(user_input)}\")\n",
        "    else:\n",
        "        user_input = input(\"Enter your morse. \\n\")\n",
        "        print(f\"Your decoded Text: \\n{morse.decode(user_input)}\")\n",
        "    should_continue = input(\"\\nDo you want to continue? Write True or False \\n\").title()\n"
      ],
      "metadata": {
        "colab": {
          "base_uri": "https://localhost:8080/"
        },
        "id": "LPh60c7xBoUL",
        "outputId": "8bb4214d-a3ab-4735-da2a-560f759e7cf1"
      },
      "execution_count": 3,
      "outputs": [
        {
          "name": "stdout",
          "output_type": "stream",
          "text": [
            "Do you want to encode text or decode Morse Code? Write encode or decode. \n",
            "encode\n",
            "Enter your text. \n",
            "dodo\n",
            "Your encoded Morse Code: \n",
            "-.. --- -.. ---\n",
            "\n",
            "Do you want to continue? Write True or False \n",
            "\n"
          ]
        }
      ]
    }
  ]
}