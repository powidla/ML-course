{
  "nbformat": 4,
  "nbformat_minor": 0,
  "metadata": {
    "colab": {
      "provenance": [],
      "authorship_tag": "ABX9TyNDiZMkvoxJ1pHMkl13rrnP",
      "include_colab_link": true
    },
    "kernelspec": {
      "name": "python3",
      "display_name": "Python 3"
    },
    "language_info": {
      "name": "python"
    }
  },
  "cells": [
    {
      "cell_type": "markdown",
      "metadata": {
        "id": "view-in-github",
        "colab_type": "text"
      },
      "source": [
        "<a href=\"https://colab.research.google.com/github/powidla/ML-course/blob/main/morse.ipynb\" target=\"_parent\"><img src=\"https://colab.research.google.com/assets/colab-badge.svg\" alt=\"Open In Colab\"/></a>"
      ]
    },
    {
      "cell_type": "code",
      "execution_count": 25,
      "metadata": {
        "id": "mlvS3VVYAyrs"
      },
      "outputs": [],
      "source": [
        "import random \n",
        "class Morse:\n",
        "    def __init__(self):\n",
        "      \"\"\"Morse table itself copied from github link. The full table has been presented in json format\"\"\"\n",
        "      self.morse = {\n",
        "                          \"0\": \"-----\",\n",
        "                          \"1\": \".----\",\n",
        "                          \"2\": \"..---\",\n",
        "                          \"3\": \"...--\",\n",
        "                          \"4\": \"....-\",\n",
        "                          \"5\": \".....\",\n",
        "                          \"6\": \"-....\",\n",
        "                          \"7\": \"--...\",\n",
        "                          \"8\": \"---..\",\n",
        "                          \"9\": \"----.\",\n",
        "                          \"a\": \".-\",\n",
        "                          \"b\": \"-...\",\n",
        "                          \"c\": \"-.-.\",\n",
        "                          \"d\": \"-..\",\n",
        "                          \"e\": \".\",\n",
        "                          \"f\": \"..-.\",\n",
        "                          \"g\": \"--.\",\n",
        "                          \"h\": \"....\",\n",
        "                          \"i\": \"..\",\n",
        "                          \"j\": \".---\",\n",
        "                          \"k\": \"-.-\",\n",
        "                          \"l\": \".-..\",\n",
        "                          \"m\": \"--\",\n",
        "                          \"n\": \"-.\",\n",
        "                          \"o\": \"---\",\n",
        "                          \"p\": \".--.\",\n",
        "                          \"q\": \"--.-\",\n",
        "                          \"r\": \".-.\",\n",
        "                          \"s\": \"...\",\n",
        "                          \"t\": \"-\",\n",
        "                          \"u\": \"..-\",\n",
        "                          \"v\": \"...-\",\n",
        "                          \"w\": \".--\",\n",
        "                          \"x\": \"-..-\",\n",
        "                          \"y\": \"-.--\",\n",
        "                          \"z\": \"--..\",\n",
        "                          \".\": \".-.-.-\",\n",
        "                          \",\": \"--..--\",\n",
        "                          \"?\": \"..--..\",\n",
        "                          \"!\": \"-.-.--\",\n",
        "                          \"-\": \"-....-\",\n",
        "                          \"/\": \"-..-.\",\n",
        "                          \"@\": \".--.-.\",\n",
        "                          \"(\": \"-.--.\",\n",
        "                          \")\": \"-.--.-\"\n",
        "                        }\n",
        "\n",
        "    def morse_encode(self, string):\n",
        "      '''Function to encode words selected from a prticular list to morse code.'''\n",
        "      encoded_list = []\n",
        "\n",
        "      for char in string:\n",
        "\n",
        "            for key in self.morse:\n",
        "                if key == char.lower():\n",
        "                    encoded_list.append(self.morse[key])\n",
        "\n",
        "      encoded_string = ' '.join(encoded_list)\n",
        "      return encoded_string\n",
        "\n",
        "    def morse_decode(self, string):\n",
        "      '''Function to decode morse code and get an english word.'''\n",
        "        \n",
        "      decoded_list = []\n",
        "        \n",
        "      morse_list = string.split()\n",
        "\n",
        "      for item in morse_list:\n",
        "\n",
        "            for key, value in self.morse.items():\n",
        "                if value == item:\n",
        "                    decoded_list.append(key)\n",
        "\n",
        "      decoded_string = ''.join(decoded_list)\n",
        "      return decoded_string"
      ]
    },
    {
      "cell_type": "code",
      "source": [
        "list_of_words = ['code', 'word', 'world', 'cat', 'snack']\n",
        "answers = []\n",
        "\n",
        "def get_word(list_of_words):\n",
        "  '''Function to get a word from created list.'''\n",
        "  returned_word = str(random.choice(list_of_words))\n",
        "  # print(\"Selected word from a list:\", returned_word)\n",
        "  return returned_word"
      ],
      "metadata": {
        "id": "XaztAXVUDDoy"
      },
      "execution_count": 26,
      "outputs": []
    },
    {
      "cell_type": "code",
      "source": [
        "def print_statistics(answers):\n",
        "  '''Function to print rhe final statistics for a game.'''\n",
        "  print(answers)\n",
        "  print('Number of correct answers per game:', answers.count(True))\n",
        "  print('Number of incorrect answers per game:', answers.count(False))"
      ],
      "metadata": {
        "id": "tjgWpgGBWj1f"
      },
      "execution_count": 37,
      "outputs": []
    },
    {
      "cell_type": "code",
      "source": [
        "morse = Morse()\n",
        "\n",
        "should_continue = True\n",
        "\n",
        "while should_continue:\n",
        "    print('Today we will practice morse encoding! \\n')\n",
        "    action = input(\"Do you want to encode text or decode Morse Code? Write encode or decode. \\n\")\n",
        "\n",
        "    if action == \"encode\":\n",
        "        print(\"Enter your text. \\n\")\n",
        "        user_input = get_word(list_of_words)\n",
        "        encoded = morse.morse_encode(user_input)\n",
        "        print(f\"Your encoded Morse Code: \\n{morse.morse_encode(user_input)}\")\n",
        "        my_answer = input(\"Please enter your guess. \\n\")\n",
        "        selected = morse.morse_decode(my_answer)\n",
        "        if selected == encoded:\n",
        "          print(\"This is correct \\n\")\n",
        "          answers.append('True')\n",
        "        if selected != encoded:\n",
        "          print('This is not correct \\n')\n",
        "          answers.append(\"False\")\n",
        "        print_statistics(answers)\n",
        "    else:\n",
        "        should_continue = input(\"\\nDo you want to continue? Write True or False \\n\").title()\n",
        "        user_input = input(\"Enter your morse. \\n\")\n",
        "        print(f\"Your decoded Text: \\n{morse.morse_decode(user_input)}\")\n",
        "        break\n",
        "\n",
        "if should_continue == False:\n",
        "  print(\"Here are the answers during the game:\", answers)\n",
        "  print('Thanks for playing!') \n",
        "  \n"
      ],
      "metadata": {
        "colab": {
          "base_uri": "https://localhost:8080/",
          "height": 712
        },
        "id": "LPh60c7xBoUL",
        "outputId": "d4206c9b-e48d-47bf-d433-0a89fa5cda28"
      },
      "execution_count": 40,
      "outputs": [
        {
          "output_type": "stream",
          "name": "stdout",
          "text": [
            "Today we will practice morse encoding! \n",
            "\n",
            "Do you want to encode text or decode Morse Code? Write encode or decode. \n",
            "encode\n",
            "Enter your text. \n",
            "\n",
            "Your encoded Morse Code: \n",
            "... -. .- -.-. -.-\n",
            "Please enter your guess. \n",
            "word\n",
            "This is not correct \n",
            "\n",
            "['False', 'False', 'False', 'False', 'False', 'False', 'False', 'False']\n",
            "Number of correct answers per game: 0\n",
            "\n",
            "Do you want to continue? Write True or False \n",
            "False\n",
            "Today we will practice morse encoding! \n",
            "\n"
          ]
        },
        {
          "output_type": "error",
          "ename": "KeyboardInterrupt",
          "evalue": "ignored",
          "traceback": [
            "\u001b[0;31m---------------------------------------------------------------------------\u001b[0m",
            "\u001b[0;31mKeyboardInterrupt\u001b[0m                         Traceback (most recent call last)",
            "\u001b[0;32m<ipython-input-40-999802910799>\u001b[0m in \u001b[0;36m<module>\u001b[0;34m\u001b[0m\n\u001b[1;32m      5\u001b[0m \u001b[0;32mwhile\u001b[0m \u001b[0mshould_continue\u001b[0m\u001b[0;34m:\u001b[0m\u001b[0;34m\u001b[0m\u001b[0;34m\u001b[0m\u001b[0m\n\u001b[1;32m      6\u001b[0m     \u001b[0mprint\u001b[0m\u001b[0;34m(\u001b[0m\u001b[0;34m'Today we will practice morse encoding! \\n'\u001b[0m\u001b[0;34m)\u001b[0m\u001b[0;34m\u001b[0m\u001b[0;34m\u001b[0m\u001b[0m\n\u001b[0;32m----> 7\u001b[0;31m     \u001b[0maction\u001b[0m \u001b[0;34m=\u001b[0m \u001b[0minput\u001b[0m\u001b[0;34m(\u001b[0m\u001b[0;34m\"Do you want to encode text or decode Morse Code? Write encode or decode. \\n\"\u001b[0m\u001b[0;34m)\u001b[0m\u001b[0;34m\u001b[0m\u001b[0;34m\u001b[0m\u001b[0m\n\u001b[0m\u001b[1;32m      8\u001b[0m \u001b[0;34m\u001b[0m\u001b[0m\n\u001b[1;32m      9\u001b[0m     \u001b[0;32mif\u001b[0m \u001b[0maction\u001b[0m \u001b[0;34m==\u001b[0m \u001b[0;34m\"encode\"\u001b[0m\u001b[0;34m:\u001b[0m\u001b[0;34m\u001b[0m\u001b[0;34m\u001b[0m\u001b[0m\n",
            "\u001b[0;32m/usr/local/lib/python3.8/dist-packages/ipykernel/kernelbase.py\u001b[0m in \u001b[0;36mraw_input\u001b[0;34m(self, prompt)\u001b[0m\n\u001b[1;32m    858\u001b[0m                 \u001b[0;34m\"raw_input was called, but this frontend does not support input requests.\"\u001b[0m\u001b[0;34m\u001b[0m\u001b[0;34m\u001b[0m\u001b[0m\n\u001b[1;32m    859\u001b[0m             )\n\u001b[0;32m--> 860\u001b[0;31m         return self._input_request(str(prompt),\n\u001b[0m\u001b[1;32m    861\u001b[0m             \u001b[0mself\u001b[0m\u001b[0;34m.\u001b[0m\u001b[0m_parent_ident\u001b[0m\u001b[0;34m,\u001b[0m\u001b[0;34m\u001b[0m\u001b[0;34m\u001b[0m\u001b[0m\n\u001b[1;32m    862\u001b[0m             \u001b[0mself\u001b[0m\u001b[0;34m.\u001b[0m\u001b[0m_parent_header\u001b[0m\u001b[0;34m,\u001b[0m\u001b[0;34m\u001b[0m\u001b[0;34m\u001b[0m\u001b[0m\n",
            "\u001b[0;32m/usr/local/lib/python3.8/dist-packages/ipykernel/kernelbase.py\u001b[0m in \u001b[0;36m_input_request\u001b[0;34m(self, prompt, ident, parent, password)\u001b[0m\n\u001b[1;32m    902\u001b[0m             \u001b[0;32mexcept\u001b[0m \u001b[0mKeyboardInterrupt\u001b[0m\u001b[0;34m:\u001b[0m\u001b[0;34m\u001b[0m\u001b[0;34m\u001b[0m\u001b[0m\n\u001b[1;32m    903\u001b[0m                 \u001b[0;31m# re-raise KeyboardInterrupt, to truncate traceback\u001b[0m\u001b[0;34m\u001b[0m\u001b[0;34m\u001b[0m\u001b[0;34m\u001b[0m\u001b[0m\n\u001b[0;32m--> 904\u001b[0;31m                 \u001b[0;32mraise\u001b[0m \u001b[0mKeyboardInterrupt\u001b[0m\u001b[0;34m(\u001b[0m\u001b[0;34m\"Interrupted by user\"\u001b[0m\u001b[0;34m)\u001b[0m \u001b[0;32mfrom\u001b[0m \u001b[0;32mNone\u001b[0m\u001b[0;34m\u001b[0m\u001b[0;34m\u001b[0m\u001b[0m\n\u001b[0m\u001b[1;32m    905\u001b[0m             \u001b[0;32mexcept\u001b[0m \u001b[0mException\u001b[0m \u001b[0;32mas\u001b[0m \u001b[0me\u001b[0m\u001b[0;34m:\u001b[0m\u001b[0;34m\u001b[0m\u001b[0;34m\u001b[0m\u001b[0m\n\u001b[1;32m    906\u001b[0m                 \u001b[0mself\u001b[0m\u001b[0;34m.\u001b[0m\u001b[0mlog\u001b[0m\u001b[0;34m.\u001b[0m\u001b[0mwarning\u001b[0m\u001b[0;34m(\u001b[0m\u001b[0;34m\"Invalid Message:\"\u001b[0m\u001b[0;34m,\u001b[0m \u001b[0mexc_info\u001b[0m\u001b[0;34m=\u001b[0m\u001b[0;32mTrue\u001b[0m\u001b[0;34m)\u001b[0m\u001b[0;34m\u001b[0m\u001b[0;34m\u001b[0m\u001b[0m\n",
            "\u001b[0;31mKeyboardInterrupt\u001b[0m: Interrupted by user"
          ]
        }
      ]
    }
  ]
}