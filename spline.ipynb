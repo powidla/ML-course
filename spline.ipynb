{
  "nbformat": 4,
  "nbformat_minor": 0,
  "metadata": {
    "colab": {
      "provenance": [],
      "authorship_tag": "ABX9TyNyAo2VR+oS0eklgwZlhtzI",
      "include_colab_link": true
    },
    "kernelspec": {
      "name": "python3",
      "display_name": "Python 3"
    },
    "language_info": {
      "name": "python"
    }
  },
  "cells": [
    {
      "cell_type": "markdown",
      "metadata": {
        "id": "view-in-github",
        "colab_type": "text"
      },
      "source": [
        "<a href=\"https://colab.research.google.com/github/powidla/ML-course/blob/main/spline.ipynb\" target=\"_parent\"><img src=\"https://colab.research.google.com/assets/colab-badge.svg\" alt=\"Open In Colab\"/></a>"
      ]
    },
    {
      "cell_type": "code",
      "execution_count": 15,
      "metadata": {
        "id": "-equbV5vFQiy"
      },
      "outputs": [],
      "source": [
        "# Подключаем библиотеки, для работы с массивами используем библиотеку numpys\n",
        "import numpy as np\n",
        "import math \n",
        "import matplotlib.pyplot as plt"
      ]
    },
    {
      "cell_type": "code",
      "source": [
        "def cubic_spline(x0, x, y):\n",
        "\n",
        "    x = np.asfarray(x) # массивы заданной размерности, х - исходный массив \n",
        "    y = np.asfarray(y)\n",
        "\n",
        "    # проверка сортировки массива \n",
        "    if np.any(np.diff(x) < 0):\n",
        "        indexes = np.argsort(x)  # сортировка по индексам элементов массива \n",
        "        x = x[indexes]  # для каждого из массивовы\n",
        "        y = y[indexes]\n",
        "\n",
        "    size = len(x)   # длина массива х, чтобы выполнялись матричные вычисления длины массивов должны совпадать\n",
        "\n",
        "    xdiff = np.diff(x) # вычисление разности для разных точек узла, аналог производной для одномерной разностной схемы\n",
        "    ydiff = np.diff(y)\n",
        "\n",
        "    # создаем пустые матрицы, которые потом заполним значениями вычислений сплайна\n",
        "    Li = np.empty(size)\n",
        "    Li_1 = np.empty(size-1)\n",
        "    z = np.empty(size) # величина интерполируемого вектора\n",
        "\n",
        "    # условие матричного уравнения на главные диагонали заданной матрицы\n",
        "    Li[0] = math.sqrt(2 * xdiff[0])\n",
        "    Li_1[0] = 0.0\n",
        "    B0 = 0.0 # начальное условие\n",
        "    z[0] = B0 / Li[0]\n",
        "\n",
        "    # Зполнение матрицы по размеру массивов - 1, заполняем по матричным формулам \n",
        "    for i in range(1, size-1, 1):\n",
        "        Li_1[i] = xdiff[i-1] / Li[i-1]\n",
        "        Li[i] = math.sqrt(2 * (xdiff[i-1] + xdiff[i]) - Li_1[i-1] * Li_1[i-1])\n",
        "        Bi = 6 * (ydiff[i] / xdiff[i] - ydiff[i-1] / xdiff[i-1])\n",
        "        z[i] = (Bi - Li_1[i-1] * z[i-1]) / Li[i]\n",
        "\n",
        "    i = size - 1\n",
        "    Li_1[i-1] = xdiff[-1] / Li[i-1]\n",
        "    Li[i] = math.sqrt(2 * xdiff[-1] - Li_1[i-1] * Li_1[i-1])\n",
        "    Bi = 0.0 # аналогичное начальное условие для элементов вектора b\n",
        "    z[i] = (Bi - Li_1[i-1] * z[i-1]) / Li[i]\n",
        "\n",
        "    # решение матричного уравнения [L.T][x] = [y] чтобы заполнить массив z  \n",
        "    i = size-1\n",
        "    z[i] = z[i] / Li[i]\n",
        "    for i in range(size-2, -1, -1):\n",
        "        z[i] = (z[i] - Li_1[i-1] * z[i+1]) / Li[i]\n",
        "\n",
        "    # поиск индекса нулевого приближения в виде x0\n",
        "    index = x.searchsorted(x0)\n",
        "    np.clip(index, 1, size-1, index)\n",
        "\n",
        "    # задаем значения для скаляров в формулу кубического сплайна, для значений массивов задаем через индексы и вводим величину шага\n",
        "    xi1, xi0 = x[index], x[index-1]\n",
        "    yi1, yi0 = y[index], y[index-1]\n",
        "    zi1, zi0 = z[index], z[index-1]\n",
        "    hi1 = xi1 - xi0 # шаг\n",
        "\n",
        "    # вычисление кубического сплайна по стандартной формуле значения функции в точке\n",
        "    f0 = zi0/(6*hi1)*(xi1-x0)**3 + \\\n",
        "         zi1/(6*hi1)*(x0-xi0)**3 + \\\n",
        "         (yi1/hi1 - zi1*hi1/6)*(x0-xi0) + \\\n",
        "         (yi0/hi1 - zi0*hi1/6)*(xi1-x0)\n",
        "    return f0"
      ],
      "metadata": {
        "id": "7ll6nr_jFeCX"
      },
      "execution_count": 16,
      "outputs": []
    },
    {
      "cell_type": "code",
      "source": [
        "# Пример выполнения для экспоненты\n",
        "x = np.linspace(0, 10, 11)\n",
        "y = np.exp(x)\n",
        "plt.scatter(x, y)\n",
        "\n",
        "x_new = np.linspace(0, 10, 100)\n",
        "plt.plot(x_new, cubic_spline(x_new, x, y))\n",
        "\n",
        "plt.show()"
      ],
      "metadata": {
        "colab": {
          "base_uri": "https://localhost:8080/",
          "height": 265
        },
        "id": "7l2uXGnlFU1D",
        "outputId": "22cbf8ef-336a-4120-e136-26f44a374b43"
      },
      "execution_count": 19,
      "outputs": [
        {
          "output_type": "display_data",
          "data": {
            "text/plain": [
              "<Figure size 432x288 with 1 Axes>"
            ],
            "image/png": "[encoded data removed]"
          },
          "metadata": {
            "needs_background": "light"
          }
        }
      ]
    }
  ]
}