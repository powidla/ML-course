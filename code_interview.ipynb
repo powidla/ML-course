{
 "cells": [
  {
   "cell_type": "code",
   "execution_count": 2,
   "id": "ddae8d11",
   "metadata": {},
   "outputs": [
    {
     "name": "stdout",
     "output_type": "stream",
     "text": [
      "roma\n"
     ]
    }
   ],
   "source": [
    "seq = ''\n",
    "seq += 'ro'\n",
    "seq += 'ma'\n",
    "print(seq)"
   ]
  },
  {
   "cell_type": "code",
   "execution_count": 5,
   "id": "f0f0565e",
   "metadata": {},
   "outputs": [
    {
     "name": "stdout",
     "output_type": "stream",
     "text": [
      "['r', 'o', 'm', 'a']\n"
     ]
    }
   ],
   "source": [
    "seq_l = list(seq)\n",
    "print(seq_l)"
   ]
  },
  {
   "cell_type": "code",
   "execution_count": 6,
   "id": "e2ee46dc",
   "metadata": {},
   "outputs": [
    {
     "name": "stdout",
     "output_type": "stream",
     "text": [
      "['A', '1', 'A']\n"
     ]
    }
   ],
   "source": [
    "ar = 'A.1.A'\n",
    "print(ar.split('.'))"
   ]
  },
  {
   "cell_type": "code",
   "execution_count": 11,
   "id": "f0b55e3f",
   "metadata": {},
   "outputs": [
    {
     "data": {
      "text/plain": [
       "65"
      ]
     },
     "execution_count": 11,
     "metadata": {},
     "output_type": "execute_result"
    }
   ],
   "source": [
    "ord('A')"
   ]
  },
  {
   "cell_type": "code",
   "execution_count": 9,
   "id": "1d5db6ac",
   "metadata": {},
   "outputs": [
    {
     "data": {
      "text/plain": [
       "66"
      ]
     },
     "execution_count": 9,
     "metadata": {},
     "output_type": "execute_result"
    }
   ],
   "source": [
    "ord('B')"
   ]
  },
  {
   "cell_type": "code",
   "execution_count": 13,
   "id": "09c69663",
   "metadata": {},
   "outputs": [
    {
     "name": "stdout",
     "output_type": "stream",
     "text": [
      "False\n"
     ]
    }
   ],
   "source": [
    "coin = ('A' == 'B')\n",
    "print(coin)"
   ]
  },
  {
   "cell_type": "code",
   "execution_count": 24,
   "id": "6abe8581",
   "metadata": {},
   "outputs": [],
   "source": [
    "def find_place(ind, subseq_list, seq_list, pos, pos_list):\n",
    "    max_ind = len(seq_list)\n",
    "    coin = True\n",
    "    \n",
    "    if ind >= len(subseq_list):\n",
    "        return True\n",
    "    \n",
    "    if ind == 0:\n",
    "        for i in range(max_ind):\n",
    "            coin = (subseq_list[0][0] == seq_list[i])\n",
    "            if coin:\n",
    "                coin = find_place(ind+1, subseq_list, seq_list, i, pos_list)\n",
    "            if coin:\n",
    "                pos_list.append(i)\n",
    "                return True\n",
    "    \n",
    "    else:\n",
    "        if subseq_list[ind][1] == 1:\n",
    "            \n",
    "            if pos+1 < max_ind:\n",
    "                coin = (subseq_list[ind][0] == seq_list[pos+1])\n",
    "            else:\n",
    "                return False\n",
    "                \n",
    "            if coin:\n",
    "                coin = find_place(ind+1, subseq_list, seq_list, pos+1, pos_list)\n",
    "                if coin:\n",
    "                    pos_list.append(pos+1)\n",
    "                    return True\n",
    "            else:\n",
    "                return False\n",
    "        else:\n",
    "            for i in range(pos+subseq_list[ind][1], max_ind):\n",
    "                coin = (subseq_list[ind][0] == seq_list[i])\n",
    "                if coin:\n",
    "                    coin = find_place(ind+1, subseq_list, seq_list, i, pos_list)\n",
    "                    if coin:\n",
    "                        pos_list.append(i)\n",
    "                        return True"
   ]
  },
  {
   "cell_type": "code",
   "execution_count": 32,
   "id": "e103fd5d",
   "metadata": {},
   "outputs": [],
   "source": [
    "seq_list = ['A', 'B', 'C', 'D', 'E', 'F']\n",
    "subseq_list = [('B', 0), ('C',1), ('E',2)]\n",
    "pos_list = []"
   ]
  },
  {
   "cell_type": "code",
   "execution_count": 33,
   "id": "c4dc265c",
   "metadata": {},
   "outputs": [
    {
     "data": {
      "text/plain": [
       "True"
      ]
     },
     "execution_count": 33,
     "metadata": {},
     "output_type": "execute_result"
    }
   ],
   "source": [
    "find_place(0, subseq_list, seq_list, 0, pos_list)"
   ]
  },
  {
   "cell_type": "code",
   "execution_count": 34,
   "id": "df71cb06",
   "metadata": {},
   "outputs": [
    {
     "data": {
      "text/plain": [
       "[4, 2, 1]"
      ]
     },
     "execution_count": 34,
     "metadata": {},
     "output_type": "execute_result"
    }
   ],
   "source": [
    "pos_list"
   ]
  },
  {
   "cell_type": "code",
   "execution_count": 35,
   "id": "5ecd4b8d",
   "metadata": {},
   "outputs": [],
   "source": [
    "pos_list.reverse()"
   ]
  },
  {
   "cell_type": "code",
   "execution_count": 36,
   "id": "6f788fd9",
   "metadata": {},
   "outputs": [
    {
     "name": "stdout",
     "output_type": "stream",
     "text": [
      "[1, 2, 4]\n"
     ]
    }
   ],
   "source": [
    "print(pos_list)"
   ]
  },
  {
   "cell_type": "code",
   "execution_count": null,
   "id": "8d45e4a7",
   "metadata": {},
   "outputs": [],
   "source": [
    "#!/bin/python3\n",
    "\n",
    "import math\n",
    "import os\n",
    "import random\n",
    "import re\n",
    "import sys\n",
    "\n",
    "\n",
    "\n",
    "#\n",
    "# Complete the 'find_pdb_mapping' function below.\n",
    "#\n",
    "# The function accepts following arguments:\n",
    "#  1. (str) reference_sequence: the primary structure of the protein\n",
    "#  2. (List[Tuple[str, str]]) pdb_sequence: list of (PDB position, amino acid 1 letter code) tuples.\n",
    "#\n",
    "# PDB positions are represented as strings with the format \"{chain_id}.{position}.{insertion_code}\"\n",
    "# For example:\n",
    "# pos_1 = \"A.1.\"\n",
    "# pos_2 = \"A.2.\"\n",
    "# pos_3 = \"A.2.A\"\n",
    "#\n",
    "# The function is expected to return a list of Tuple[str, int] linking pdb positions to indexes (starting from 0)\n",
    "# in the reference sequence.\n",
    "#\n",
    "# For instance: [(\"A.1.\", 0), (\"A.2.\", 1), (\"A.2.A\", 2)]\n",
    "#\n",
    "def find_place(ind, subseq_list, seq_list, pos, pos_list):\n",
    "    # This is recurrent function for sequence alignment\n",
    "    max_ind = len(seq_list)\n",
    "    coin = True\n",
    "    \n",
    "    # Checking the case if subsequence is already found\n",
    "    if ind >= len(subseq_list):\n",
    "        return True\n",
    "    \n",
    "    # Checking the case of the first amino acid\n",
    "    if ind == 0:\n",
    "        for i in range(max_ind):\n",
    "            coin = (subseq_list[0][0] == seq_list[i])\n",
    "            if coin:\n",
    "                coin = find_place(ind+1, subseq_list, seq_list, i, pos_list)\n",
    "            if coin:\n",
    "                pos_list.append(i)\n",
    "                return True\n",
    "    \n",
    "    else:\n",
    "        # Checking the case if the is no possible gap between current and previous aa\n",
    "        if subseq_list[ind][1] == 1:\n",
    "            \n",
    "            if pos+1 < max_ind:\n",
    "                coin = (subseq_list[ind][0] == seq_list[pos+1])\n",
    "            else:\n",
    "                return False\n",
    "                \n",
    "            if coin:\n",
    "                coin = find_place(ind+1, subseq_list, seq_list, pos+1, pos_list)\n",
    "                if coin:\n",
    "                    pos_list.append(pos+1)\n",
    "                    return True\n",
    "            else:\n",
    "                return False\n",
    "        else:\n",
    "            # Checking the case if the is a possible gap between current and previous aa\n",
    "            for i in range(pos+subseq_list[ind][1], max_ind):\n",
    "                coin = (subseq_list[ind][0] == seq_list[i])\n",
    "                if coin:\n",
    "                    coin = find_place(ind+1, subseq_list, seq_list, i, pos_list)\n",
    "                    if coin:\n",
    "                        pos_list.append(i)\n",
    "                        return True\n",
    "\n",
    "        \n",
    "    \n",
    "\n",
    "\n",
    "def find_pdb_mapping(reference_sequence, pdb_sequence):\n",
    "    # Write your code here\n",
    "    seq_list = list(reference_sequence)\n",
    "    subseq_list = []\n",
    "    pos_list = []\n",
    "    num_prev = 0\n",
    "    ind_prev = 0\n",
    "    \n",
    "    # subseq_list is a list of tuples (amino acid, position), position is relative to the previous one, pos = 1 means that there is no gap inbetween, pos > 1 means the gap exists and is at least equal to pos value\n",
    "    \n",
    "    # Position of the first amino acid is of no concern\n",
    "     \n",
    "    # Initilisation of subsequence:\n",
    "    for elt in pdb_sequence:\n",
    "        \n",
    "        num_curr = int(elt[0].split('.')[1])\n",
    "        ind_curr = 0\n",
    "        \n",
    "        if len(elt[0]) > 4 and len(elt[0].split('.')[2]) != 0:\n",
    "            ind_curr = ord(elt[0].split('.')[2]) - ord('A') + 1\n",
    "            \n",
    "        if num_curr - num_prev == 1: pos = 1\n",
    "        if num_curr - num_prev > 1: pos = num_curr - num_prev\n",
    "        \n",
    "        subseq_list.append((elt[1], pos))\n",
    "        \n",
    "        num_prev = num_curr\n",
    "        ind_prev = ind_curr\n",
    "    \n",
    "    \n",
    "    max_ind = len(seq_list)\n",
    "    \n",
    "    # Recurrenly aligning sequences\n",
    "    solution = find_place(0, subseq_list, seq_list, 0, pos_list)\n",
    "    \n",
    "    # Potentially, if solution does not exist, we could stop here\n",
    "    \n",
    "    # List should be reversed, as due to recurrence lat position was added first\n",
    "    pos_list.reverse()\n",
    "    \n",
    "    output = []\n",
    "    for i in range(len(pos_list)):\n",
    "        output.append((pdb_sequence[i][0], pos_list[i]))\n",
    "    \n",
    "    return output"
   ]
  },
  {
   "cell_type": "code",
   "execution_count": null,
   "id": "30d5c38e",
   "metadata": {},
   "outputs": [],
   "source": [
    "#\n",
    "# Complete the 'find_pdb_mapping' function below.\n",
    "#\n",
    "# The function accepts following arguments:\n",
    "#  1. (str) reference_sequence: the primary structure of the protein\n",
    "#  2. (List[Tuple[str, str]]) pdb_sequence: list of (PDB position, amino acid 1 letter code) tuples.\n",
    "#\n",
    "# PDB positions are represented as strings with the format \"{chain_id}.{position}.{insertion_code}\"\n",
    "# For example:\n",
    "# pos_1 = \"A.1.\"\n",
    "# pos_2 = \"A.2.\"\n",
    "# pos_3 = \"A.2.A\"\n",
    "#\n",
    "# The function is expected to return a list of Tuple[str, int] linking pdb positions to indexes (starting from 0)\n",
    "# in the reference sequence.\n",
    "#\n",
    "# For instance: [(\"A.1.\", 0), (\"A.2.\", 1), (\"A.2.A\", 2)]\n",
    "#\n",
    "def find_place(ind, subseq_list, seq_list, pos, pos_list):\n",
    "    # This is recurrent function for sequence alignment\n",
    "    # Arguments here are: ind - index of current amino acid in subseq_list, pos - position of previous amino acid in seq_list\n",
    "    \n",
    "    max_ind = len(seq_list)\n",
    "    coin = True\n",
    "    \n",
    "    # Checking the case if subsequence is already found\n",
    "    if ind >= len(subseq_list):\n",
    "        return True\n",
    "    \n",
    "    # Checking the case of the first amino acid\n",
    "    if ind == 0:\n",
    "        for i in range(max_ind):\n",
    "            coin = (subseq_list[0][0] == seq_list[i])\n",
    "            \n",
    "            # Recurrence step\n",
    "            if coin:\n",
    "                coin = find_place(ind+1, subseq_list, seq_list, i, pos_list)\n",
    "            if coin:\n",
    "                pos_list.append(i)\n",
    "                return True\n",
    "            \n",
    "        return False\n",
    "    \n",
    "    else:\n",
    "        # Checking the case if there is no possible gap between current and previous amino acids\n",
    "        if subseq_list[ind][1] == 1:\n",
    "            \n",
    "            if pos+1 < max_ind:\n",
    "                coin = (subseq_list[ind][0] == seq_list[pos+1])\n",
    "            else:\n",
    "                return False\n",
    "            \n",
    "            # Recurrence step\n",
    "            if coin:\n",
    "                coin = find_place(ind+1, subseq_list, seq_list, pos+1, pos_list)\n",
    "                if coin:\n",
    "                    pos_list.append(pos+1)\n",
    "                    return True\n",
    "            else:\n",
    "                return False\n",
    "        else:\n",
    "            # Checking the case if there is a possible gap between current and previous ones\n",
    "            for i in range(pos+subseq_list[ind][1], max_ind):\n",
    "                coin = (subseq_list[ind][0] == seq_list[i])\n",
    "                \n",
    "                # Recurrence step\n",
    "                if coin:\n",
    "                    coin = find_place(ind+1, subseq_list, seq_list, i, pos_list)\n",
    "                    if coin:\n",
    "                        pos_list.append(i)\n",
    "                        return True\n",
    "            return False\n",
    "\n",
    "        \n",
    "    \n",
    "\n",
    "\n",
    "def find_pdb_mapping(reference_sequence, pdb_sequence):\n",
    "    # Write your code here\n",
    "    seq_list = list(reference_sequence)\n",
    "    subseq_list = []\n",
    "    pos_list = []\n",
    "    num_prev = 0\n",
    "    ind_prev = 0\n",
    "    \n",
    "    # subseq_list is a list of tuples (amino acid, position), position is relative to the previous one, pos = 1 means that there is no gap inbetween, pos > 1 means the gap exists and is at least equal to pos value\n",
    "    \n",
    "    # Position of the first amino acid is of no concern\n",
    "     \n",
    "    # Initilisation of subsequence:\n",
    "    for elt in pdb_sequence:\n",
    "        \n",
    "        num_curr = int(elt[0].split('.')[1])\n",
    "        ind_curr = 0\n",
    "        \n",
    "        if len(elt[0]) > 4 and len(elt[0].split('.')[2]) != 0:\n",
    "            ind_curr = ord(elt[0].split('.')[2]) - ord('A') + 1\n",
    "        \n",
    "        # As it is stated, no missing insertion codes between two consecutive numbers\n",
    "        if num_curr - num_prev == 1 or num_curr - num_prev == 0: pos = 1\n",
    "        if num_curr - num_prev > 1: pos = num_curr - num_prev\n",
    "        \n",
    "        subseq_list.append((elt[1], pos))\n",
    "        \n",
    "        num_prev = num_curr\n",
    "        ind_prev = ind_curr\n",
    "    \n",
    "    # In the end, we do not need information about insertions, but let it be for future potential development\n",
    "    \n",
    "    max_ind = len(seq_list)\n",
    "    \n",
    "    # Recurrenly aligning sequences\n",
    "    solution = find_place(0, subseq_list, seq_list, 0, pos_list)\n",
    "    \n",
    "    # Potentially, if solution does not exist, we could stop here\n",
    "    \n",
    "    # List should be reversed, as due to recurrence last position was added first\n",
    "    pos_list.reverse()\n",
    "    \n",
    "    output = []\n",
    "    for i in range(len(pdb_sequence)):\n",
    "        output.append((pdb_sequence[i][0], pos_list[i]))\n",
    "    \n",
    "    return output"
   ]
  }
 ],
 "metadata": {
  "kernelspec": {
   "display_name": "Python 3 (ipykernel)",
   "language": "python",
   "name": "python3"
  },
  "language_info": {
   "codemirror_mode": {
    "name": "ipython",
    "version": 3
   },
   "file_extension": ".py",
   "mimetype": "text/x-python",
   "name": "python",
   "nbconvert_exporter": "python",
   "pygments_lexer": "ipython3",
   "version": "3.9.13"
  }
 },
 "nbformat": 4,
 "nbformat_minor": 5
}
